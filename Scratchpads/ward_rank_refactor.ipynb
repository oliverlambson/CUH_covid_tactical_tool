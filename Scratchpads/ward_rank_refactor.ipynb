{
 "cells": [
  {
   "cell_type": "code",
   "execution_count": null,
   "metadata": {},
   "outputs": [],
   "source": [
    "%load_ext autoreload\n",
    "%autoreload 2"
   ]
  },
  {
   "cell_type": "code",
   "execution_count": null,
   "metadata": {},
   "outputs": [],
   "source": [
    "from IPython.display import display"
   ]
  },
  {
   "cell_type": "code",
   "execution_count": null,
   "metadata": {},
   "outputs": [],
   "source": [
    "import pandas as pd\n",
    "import numpy as np"
   ]
  },
  {
   "cell_type": "markdown",
   "metadata": {},
   "source": [
    "# Current approach"
   ]
  },
  {
   "cell_type": "code",
   "execution_count": null,
   "metadata": {},
   "outputs": [],
   "source": [
    "from cuhvid.wards import get_ward_change_rank"
   ]
  },
  {
   "cell_type": "code",
   "execution_count": null,
   "metadata": {},
   "outputs": [],
   "source": [
    "get_ward_change_rank()"
   ]
  },
  {
   "cell_type": "markdown",
   "metadata": {},
   "source": [
    "# Refactor approach"
   ]
  },
  {
   "cell_type": "markdown",
   "metadata": {},
   "source": [
    "## 0. Read-in data"
   ]
  },
  {
   "cell_type": "code",
   "execution_count": null,
   "metadata": {},
   "outputs": [],
   "source": [
    "path = '/Users/oliverlambson/GitHub/ISMM/CUH_covid_tactical_tool/Data/bed_plan.xlsx'\n",
    "df = pd.read_excel(path, sheet_name='v14')\n",
    "\n",
    "# fill NaNs in important columns\n",
    "df.loc[:, df.columns.str.contains('_priority')] = df.loc[:, df.columns.str.contains('_priority')].fillna(0)\n",
    "df.loc[:, df.columns.str.contains('_no_beds')] = df.loc[:, df.columns.str.contains('_no_beds')].fillna(0)\n",
    "\n",
    "# drop unnecessary columns\n",
    "df = df.drop(columns=df.columns[df.columns.str.contains('no_beds_')])\n",
    "df = df.drop(columns=['division'])\n",
    "\n",
    "display(df[df.AB_change | df.BC_change])\n",
    "display(df[df.AB_change & df.BC_change])"
   ]
  },
  {
   "cell_type": "code",
   "execution_count": null,
   "metadata": {},
   "outputs": [],
   "source": [
    "# # raise error if ward changes A->B and B->C\n",
    "# if len(df[df.AB_change & df.BC_change]) != 0:\n",
    "#     raise Exception('Cannot handle changing same ward twice (from scenario A to B and scenario B to C)')"
   ]
  },
  {
   "cell_type": "markdown",
   "metadata": {},
   "source": [
    "## 1. Get configuration summaries (no of RAG wards & beds for each scenario)"
   ]
  },
  {
   "cell_type": "code",
   "execution_count": null,
   "metadata": {},
   "outputs": [],
   "source": [
    "all_colors = ['R', 'A', 'G']\n",
    "scenarios = ['A', 'B', 'C']\n",
    "\n",
    "multi_index = pd.MultiIndex.from_product([scenarios, all_colors], names=['scenario', 'color'])\n",
    "df_summary = pd.DataFrame(\n",
    "    np.zeros((len(scenarios)*len(all_colors),2)).astype(int), \n",
    "    index=multi_index, \n",
    "    columns=['Wards', 'Beds']\n",
    ")\n",
    "\n",
    "for scenario in scenarios:\n",
    "    agg_cols = {}\n",
    "    agg_cols['Wards'] = (f'{scenario}_no_beds', 'count')\n",
    "    agg_cols['Beds'] = (f'{scenario}_no_beds', 'sum')\n",
    "\n",
    "    dfr = (\n",
    "        df.groupby(by=f'{scenario}_color')\n",
    "            .agg(**agg_cols)\n",
    "            .reindex(all_colors, fill_value=0)\n",
    "            .rename_axis(None)\n",
    "    )\n",
    "    \n",
    "    df_summary.loc[scenario, :] = dfr.values.astype(int)\n",
    "\n",
    "display(df_summary)"
   ]
  },
  {
   "cell_type": "markdown",
   "metadata": {},
   "source": [
    "## 2. Generate ward change rank table"
   ]
  },
  {
   "cell_type": "code",
   "execution_count": null,
   "metadata": {},
   "outputs": [],
   "source": [
    "df_AB = df.loc[df.AB_change, ['block', 'ID',\n",
    "                              'A_color', 'A_no_beds', 'AB_priority',\n",
    "                              'B_color', 'B_no_beds']]\n",
    "df_AB = df_AB.rename(columns={\n",
    "    'A_color': 'i_color',\n",
    "    'A_no_beds': 'i_no_beds',\n",
    "    'AB_priority': 'priority',\n",
    "    'B_color': 'ii_color',\n",
    "    'B_no_beds': 'ii_no_beds',\n",
    "})\n",
    "df_AB['scenario'] = 'B'\n",
    "\n",
    "df_BC = df.loc[df.BC_change, ['block', 'ID',\n",
    "                              'B_color', 'B_no_beds', 'BC_priority',\n",
    "                              'C_color', 'C_no_beds']]\n",
    "df_BC = df_BC.rename(columns={\n",
    "    'B_color': 'i_color',\n",
    "    'B_no_beds': 'i_no_beds',\n",
    "    'BC_priority': 'priority',\n",
    "    'C_color': 'ii_color',\n",
    "    'C_no_beds': 'ii_no_beds',\n",
    "})\n",
    "df_BC['scenario'] = 'C'\n",
    "\n",
    "df_rank = pd.concat([df_AB, df_BC])\n",
    "\n",
    "df_rank"
   ]
  },
  {
   "cell_type": "markdown",
   "metadata": {},
   "source": [
    "### Add bed deltas"
   ]
  },
  {
   "cell_type": "code",
   "execution_count": null,
   "metadata": {},
   "outputs": [],
   "source": [
    "def delta_beds(s, color):\n",
    "    if s.i_color == color:\n",
    "        return -s.i_no_beds\n",
    "    elif s.ii_color == color:\n",
    "        return s.ii_no_beds\n",
    "    else:\n",
    "        return 0\n",
    "\n",
    "df_rank['dR_no_beds'] = df_rank.apply(delta_beds, axis='columns', color='R')\n",
    "df_rank['dA_no_beds'] = df_rank.apply(delta_beds, axis='columns', color='A')\n",
    "df_rank['dG_no_beds'] = df_rank.apply(delta_beds, axis='columns', color='G')\n",
    "\n",
    "df_rank"
   ]
  },
  {
   "cell_type": "markdown",
   "metadata": {},
   "source": [
    "### Add changeover type rank"
   ]
  },
  {
   "cell_type": "code",
   "execution_count": null,
   "metadata": {},
   "outputs": [],
   "source": [
    "color_rank = {\n",
    "    'GR': 0,\n",
    "    'AR': 1,\n",
    "    'GA': 2,\n",
    "}\n",
    "df_rank['color_rank'] = df_rank['i_color'] + df_rank['ii_color']\n",
    "df_rank['color_rank'] = df_rank['color_rank'].map(color_rank).fillna(0)\n",
    "\n",
    "bed_size_ascending = False\n",
    "df_rank = df_rank.sort_values(by=['scenario', 'priority', 'color_rank', 'dR_no_beds', 'dA_no_beds'], \n",
    "                          ascending=[True, True, True, bed_size_ascending, bed_size_ascending])\n",
    "df_rank['rank'] = range(1, len(df_rank)+1)\n",
    "\n",
    "df_rank"
   ]
  },
  {
   "cell_type": "markdown",
   "metadata": {},
   "source": [
    "### Reorder columns"
   ]
  },
  {
   "cell_type": "code",
   "execution_count": null,
   "metadata": {},
   "outputs": [],
   "source": [
    "df_rank = df_rank[[\n",
    "    'rank', 'block', 'ID', 'scenario', 'priority', 'color_rank',\n",
    "    'i_color', 'ii_color',\n",
    "    'dR_no_beds', 'dA_no_beds', 'dG_no_beds'\n",
    "]]\n",
    "df_rank"
   ]
  },
  {
   "cell_type": "markdown",
   "metadata": {},
   "source": [
    "### Add initial state"
   ]
  },
  {
   "cell_type": "code",
   "execution_count": null,
   "metadata": {},
   "outputs": [],
   "source": [
    "df_rank = df_rank.append({\n",
    "    'rank': 0,\n",
    "    'scenario': 'A',\n",
    "    'priority': 0,\n",
    "    'color_rank': 0,\n",
    "    'dR_no_beds': 0,\n",
    "    'dA_no_beds': 0,\n",
    "    'dG_no_beds': 0\n",
    "}, ignore_index=True).fillna('').sort_values(by='rank').set_index('rank')\n",
    "df_rank"
   ]
  },
  {
   "cell_type": "markdown",
   "metadata": {},
   "source": [
    "### Add no beds columns"
   ]
  },
  {
   "cell_type": "code",
   "execution_count": null,
   "metadata": {},
   "outputs": [],
   "source": [
    "for c in ['R', 'A', 'G']:\n",
    "    df_rank[f'{c}_no_beds'] = df_summary.loc[('A', c),'Beds'] + df_rank[f'd{c}_no_beds'].cumsum()"
   ]
  },
  {
   "cell_type": "markdown",
   "metadata": {},
   "source": [
    "### Add total no beds column"
   ]
  },
  {
   "cell_type": "code",
   "execution_count": null,
   "metadata": {},
   "outputs": [],
   "source": [
    "df_rank['total_no_beds'] = df_rank['R_no_beds'] + df_rank['A_no_beds'] + df_rank['G_no_beds']"
   ]
  },
  {
   "cell_type": "code",
   "execution_count": null,
   "metadata": {},
   "outputs": [],
   "source": [
    "df_rank"
   ]
  },
  {
   "cell_type": "markdown",
   "metadata": {},
   "source": [
    "# Test function in module"
   ]
  },
  {
   "cell_type": "code",
   "execution_count": null,
   "metadata": {},
   "outputs": [],
   "source": [
    "from cuhvid.wards import get_ward_change_rank2\n",
    "get_ward_change_rank2(bed_plan='v14')"
   ]
  }
 ],
 "metadata": {
  "kernelspec": {
   "display_name": "Python 3.7.7 64-bit ('cuhvid': conda)",
   "language": "python",
   "name": "python37764bitcuhvidconda31f8cedc1f9b4210915e8caaf4bd67aa"
  },
  "language_info": {
   "codemirror_mode": {
    "name": "ipython",
    "version": 3
   },
   "file_extension": ".py",
   "mimetype": "text/x-python",
   "name": "python",
   "nbconvert_exporter": "python",
   "pygments_lexer": "ipython3",
   "version": "3.7.7"
  }
 },
 "nbformat": 4,
 "nbformat_minor": 4
}
