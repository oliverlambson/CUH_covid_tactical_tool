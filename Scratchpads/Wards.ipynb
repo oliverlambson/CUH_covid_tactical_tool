{
 "cells": [
  {
   "cell_type": "code",
   "execution_count": null,
   "metadata": {},
   "outputs": [],
   "source": [
    "%load_ext autoreload\n",
    "%autoreload 2"
   ]
  },
  {
   "cell_type": "code",
   "execution_count": null,
   "metadata": {},
   "outputs": [],
   "source": [
    "import pandas as pd"
   ]
  },
  {
   "cell_type": "markdown",
   "metadata": {},
   "source": [
    "### Read-in data"
   ]
  },
  {
   "cell_type": "code",
   "execution_count": null,
   "metadata": {},
   "outputs": [],
   "source": [
    "path = '../Data/RAWDATA_Ward_Scenarios.xlsx'\n",
    "df_wards = pd.read_excel(path)"
   ]
  },
  {
   "cell_type": "code",
   "execution_count": null,
   "metadata": {},
   "outputs": [],
   "source": [
    "df_wards.head()"
   ]
  },
  {
   "cell_type": "markdown",
   "metadata": {},
   "source": [
    "### Mark wards that change between scenarios"
   ]
  },
  {
   "cell_type": "code",
   "execution_count": null,
   "metadata": {},
   "outputs": [],
   "source": [
    "df_wards['AB_change'] = df_wards.A_color != df_wards.B_color\n",
    "df_wards['BC_change'] = df_wards.B_color != df_wards.C_color\n",
    "# df_wards.head()"
   ]
  },
  {
   "cell_type": "markdown",
   "metadata": {},
   "source": [
    "### Assign 'taxi-rank' numbers to changing wards"
   ]
  },
  {
   "cell_type": "code",
   "execution_count": null,
   "metadata": {},
   "outputs": [],
   "source": [
    "import numpy as np\n",
    "\n",
    "def _shuffled_range(n):\n",
    "    \"\"\"\n",
    "    Generates a randomly shuffled range from 0 to n-1\n",
    "    \"\"\"\n",
    "    shuffled_range = np.arange(n)\n",
    "    np.random.shuffle(shuffled_range)\n",
    "    return shuffled_range"
   ]
  },
  {
   "cell_type": "code",
   "execution_count": null,
   "metadata": {},
   "outputs": [],
   "source": [
    "df_wards['AB_change_no'] = None\n",
    "\n",
    "change_no = _shuffled_range(len(df_wards[df_wards.AB_change]))\n",
    "df_wards.loc[df_wards.AB_change, 'AB_change_no'] = change_no\n",
    "\n",
    "# df_wards[df_wards.AB_change]"
   ]
  },
  {
   "cell_type": "code",
   "execution_count": null,
   "metadata": {},
   "outputs": [],
   "source": [
    "df_wards['BC_change_no'] = None\n",
    "\n",
    "change_no = _shuffled_range(len(df_wards[df_wards.BC_change])) + len(df_wards[df_wards.AB_change])\n",
    "df_wards.loc[df_wards.BC_change, 'BC_change_no'] = change_no\n",
    "\n",
    "# df_wards[df_wards.BC_change]"
   ]
  },
  {
   "cell_type": "markdown",
   "metadata": {},
   "source": [
    "### View updated dataframe"
   ]
  },
  {
   "cell_type": "code",
   "execution_count": null,
   "metadata": {},
   "outputs": [],
   "source": [
    "df_wards"
   ]
  },
  {
   "cell_type": "code",
   "execution_count": null,
   "metadata": {},
   "outputs": [],
   "source": [
    "df_wards[df_wards['AB_change']]"
   ]
  },
  {
   "cell_type": "markdown",
   "metadata": {},
   "source": [
    "### Summarise number of beds"
   ]
  },
  {
   "cell_type": "code",
   "execution_count": null,
   "metadata": {},
   "outputs": [],
   "source": [
    "df_wards.groupby(by='A_color').agg(No_Wards=('A_no_beds', 'count'), No_Beds=('A_no_beds', 'sum')).rename_axis(None)"
   ]
  },
  {
   "cell_type": "code",
   "execution_count": null,
   "metadata": {},
   "outputs": [],
   "source": [
    "from cuhvid.wards import get_color_numbers\n",
    "summ = dict(wards=True, beds=True)\n",
    "d_A = get_color_numbers(df_wards, 'A', **summ)\n",
    "d_B = get_color_numbers(df_wards, 'B', **summ)\n",
    "# get_color_numbers(df_wards, 'A', **summ).join(get_color_numbers(df_wards, 'B', **summ), lsuffix='A', rsuffix='B')\n",
    "\n",
    "d_A.loc['A','Beds']"
   ]
  },
  {
   "cell_type": "markdown",
   "metadata": {},
   "source": [
    "# NB: get ordered list of all ward changes + the bed no. deltas "
   ]
  },
  {
   "cell_type": "code",
   "execution_count": null,
   "metadata": {},
   "outputs": [],
   "source": [
    "from cuhvid.wards2 import Wards\n",
    "\n",
    "w = Wards()\n",
    "d = w.get_AB_wards()\n",
    "dd = d[['id', 'AB_change_no', 'A_color', 'B_color', 'A_no_beds', 'B_no_beds']].sort_values(by='AB_change_no')\n",
    "\n",
    "# dd = dd.append(pd.Series({'AB_change_no': -1}), ignore_index=True).fillna('').sort_values(by='AB_change_no')\n",
    "\n",
    "all_colors = ['R', 'A', 'G', 'RG', 'DECANT', 'excl.']\n",
    "\n",
    "from cuhvid.wards import get_color_numbers\n",
    "d_A = get_color_numbers(df_wards, 'A', beds=True)\n",
    "\n",
    "for color in all_colors:\n",
    "    dd[f'delta_{color}'] = (\n",
    "        dd.apply(lambda s : -s.A_no_beds if color == s.A_color else 0, axis='columns') \n",
    "        + dd.apply(lambda s : s.B_no_beds if color == s.B_color else 0, axis='columns')\n",
    "    )\n",
    "    \n",
    "    \n",
    "    dd[f'{color}_tot'] = dd[f'delta_{color}'].cumsum() + d_A.loc[color, 'Beds']\n",
    "\n",
    "# dd.sort_values(by=['delta_R'], ascending=[False])\n",
    "\n",
    "dd\n",
    "\n",
    "'''\n",
    "changeover order hypothesis:\n",
    "––––––––––––––––––––\n",
    "| A_color | B_color|\n",
    "--------------------\n",
    "| RG      | R      |\n",
    "| G       | R      |\n",
    "| G       | A      |\n",
    "| DECANT  | A      |\n",
    "| A       | R      |\n",
    "––––––––––––––––––––\n",
    "'''"
   ]
  },
  {
   "cell_type": "code",
   "execution_count": null,
   "metadata": {},
   "outputs": [],
   "source": [
    "import matplotlib.pyplot as plt\n",
    "fig, ax = plt.subplots()\n",
    "\n",
    "all_colors = ['R', 'A', 'G', 'RG', 'DECANT', 'excl.']\n",
    "line_colors = ['r', 'orange', 'g', 'c', 'k', 'k']\n",
    "all_totals = [s + '_tot' for s in all_colors]\n",
    "dd.plot(x='AB_change_no', y=all_totals, color=line_colors, ax=ax)\n",
    "\n",
    "plt.show()"
   ]
  },
  {
   "cell_type": "code",
   "execution_count": null,
   "metadata": {},
   "outputs": [],
   "source": []
  },
  {
   "cell_type": "markdown",
   "metadata": {},
   "source": [
    "## __draft: dataframe wrangling"
   ]
  },
  {
   "cell_type": "markdown",
   "metadata": {},
   "source": [
    "### Melt dataframe to have row for ward in each scenario"
   ]
  },
  {
   "cell_type": "code",
   "execution_count": null,
   "metadata": {},
   "outputs": [],
   "source": [
    "df_melt = df_wards.melt(id_vars=['block', 'id', 'max_no_beds', 'A_no_beds', 'B_no_beds', 'C_no_beds', 'AB_change', 'BC_change'], \n",
    "              value_vars=['A_color', 'B_color', 'C_color'], \n",
    "              var_name='scenario',\n",
    "              value_name='color'\n",
    "             )"
   ]
  },
  {
   "cell_type": "markdown",
   "metadata": {},
   "source": [
    "### Change scenario column to only contain letter"
   ]
  },
  {
   "cell_type": "code",
   "execution_count": null,
   "metadata": {},
   "outputs": [],
   "source": [
    "df_melt.loc[:,'scenario'] = df_melt.scenario.apply(lambda s: s[0])"
   ]
  },
  {
   "cell_type": "markdown",
   "metadata": {},
   "source": [
    "### Change three no_beds columns into one column (scenario comes from scenario column now)"
   ]
  },
  {
   "cell_type": "markdown",
   "metadata": {},
   "source": [
    "#### Create new column"
   ]
  },
  {
   "cell_type": "code",
   "execution_count": null,
   "metadata": {},
   "outputs": [],
   "source": [
    "df_melt['no_beds'] = None\n",
    "for scenario in df_melt.scenario.unique():\n",
    "    col = scenario + '_no_beds'\n",
    "    df_melt.loc[df_melt.scenario == scenario,'no_beds'] = df_melt.loc[df_melt.scenario == scenario,col]"
   ]
  },
  {
   "cell_type": "markdown",
   "metadata": {},
   "source": [
    "#### Drop old columns"
   ]
  },
  {
   "cell_type": "code",
   "execution_count": null,
   "metadata": {},
   "outputs": [],
   "source": [
    "df_melt = df_melt.drop(columns=['A_no_beds', 'B_no_beds', 'C_no_beds'])"
   ]
  },
  {
   "cell_type": "markdown",
   "metadata": {},
   "source": [
    "### View melted dataframe"
   ]
  },
  {
   "cell_type": "code",
   "execution_count": null,
   "metadata": {},
   "outputs": [],
   "source": [
    "df_melt.head()"
   ]
  },
  {
   "cell_type": "markdown",
   "metadata": {},
   "source": [
    "### View all wards that change"
   ]
  },
  {
   "cell_type": "code",
   "execution_count": null,
   "metadata": {},
   "outputs": [],
   "source": [
    "df_melt[df_melt.AB_change | df_melt.BC_change].sort_values(by=['id', 'scenario']).head()"
   ]
  },
  {
   "cell_type": "markdown",
   "metadata": {},
   "source": [
    "### View all wards for each scenario"
   ]
  },
  {
   "cell_type": "code",
   "execution_count": null,
   "metadata": {},
   "outputs": [],
   "source": [
    "df_melt.pivot(index='id', columns='scenario', values=['color', 'no_beds']).head()"
   ]
  }
 ],
 "metadata": {
  "kernelspec": {
   "display_name": "Python 3",
   "language": "python",
   "name": "python3"
  },
  "language_info": {
   "codemirror_mode": {
    "name": "ipython",
    "version": 3
   },
   "file_extension": ".py",
   "mimetype": "text/x-python",
   "name": "python",
   "nbconvert_exporter": "python",
   "pygments_lexer": "ipython3",
   "version": "3.7.7"
  }
 },
 "nbformat": 4,
 "nbformat_minor": 2
}
